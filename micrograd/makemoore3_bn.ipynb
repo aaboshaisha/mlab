{
 "cells": [
  {
   "cell_type": "markdown",
   "id": "c923999d-2229-4d1a-9359-c6e1886de1cc",
   "metadata": {},
   "source": [
    "We start with a question: why are RNNs (depspite being universal approximators / supposedly Turing Complete) are difficult to train with 1st order gradient based methods (eg SGD as we're using)? \n",
    "> The Key is understanding the behavior of gradients and activations during training. "
   ]
  },
  {
   "cell_type": "markdown",
   "id": "24d3b2e0-4335-4003-9def-e67e035a9089",
   "metadata": {},
   "source": [
    "### Weight Initialization:"
   ]
  },
  {
   "cell_type": "markdown",
   "id": "b186685a-6225-45cb-8497-50216df443df",
   "metadata": {},
   "source": [
    "The initialization of weights in a neural network is crucial because it sets the starting point for the optimization process during training. The choice of initial weights can significantly impact the network's ability to learn effectively and efficiently. Here are a few reasons why weight initialization matters:"
   ]
  },
  {
   "cell_type": "markdown",
   "id": "369bc15b-4740-49c7-9afd-0d0eb0d75f13",
   "metadata": {},
   "source": [
    "1. **Symmetry Breaking**: If all the weights in a neural network are initialized to the same value (e.g., zero), the network may fail to break symmetry during training. This means that all the neurons in a layer will compute the same output, and the gradients will be the same for all the weights. As a result, the network will not learn meaningful features and will not converge to a good solution.\n",
    "\n",
    "Example: Imagine you have a neural network with one hidden layer containing three neurons. If you initialize all the weights to the same value, say 0, the neurons in the hidden layer will receive the same input and compute the same output. For example:\n",
    "   - Input: [1, 2, 3]\n",
    "   - Weights: [[0, 0, 0], [0, 0, 0], [0, 0, 0]]\n",
    "   - Output: [0, 0, 0]\n",
    "\n",
    "As a result, during backpropagation, the gradients for all the weights will be the same. This means that all the weights will be updated in the same way, and the neurons will continue to compute the same output in the next iteration. The network will fail to learn meaningful features and will not converge to a good solution.\n",
    "\n",
    "**You want some entropy / randomness on initialization**"
   ]
  },
  {
   "cell_type": "markdown",
   "id": "6bc16e5b-9573-473e-9313-48af5298ab28",
   "metadata": {},
   "source": [
    "2. **Gradient Flow**: The initialization of weights affects the magnitude of the gradients during backpropagation:\n",
    "- If the weights are initialized too small, the gradients may become very small as they propagate through the layers, leading to the vanishing gradient problem. This can slow down or even prevent the network from learning.\n",
    "- On the other hand, if the weights are initialized too large, the gradients may explode, causing the network to diverge and fail to converge.\n",
    "\n",
    "Example: consider a MLP. If the weights are initialized too small, the gradients may become very small as they propagate through the layers. For example:\n",
    "   - Layer 1 weights: [[0.01, 0.01], [0.01, 0.01]]\n",
    "   - Layer 2 weights: [[0.01, 0.01], [0.01, 0.01]]\n",
    "\n",
    "If the gradients in layer 2 are [0.1, 0.1], after multiplying with the small weights, the gradients in layer 1 become [0.001, 0.001]. As the gradients become smaller and smaller, the updates to the weights become insignificant, leading to the vanishing gradient problem.\n",
    "\n",
    "On the other hand, if the weights are initialized too large, the gradients may explode. For example:\n",
    "   - Layer 1 weights: [[10, 10], [10, 10]]\n",
    "   - Layer 2 weights: [[10, 10], [10, 10]]\n",
    "\n",
    "If the gradients in layer 2 are [1, 1], after multiplying with the large weights, the gradients in layer 1 become [100, 100]. The gradients keep increasing exponentially, causing the network to diverge and fail to converge.\n",
    "\n",
    "**U don't want weights too small or too large**"
   ]
  },
  {
   "cell_type": "markdown",
   "id": "3d26fb81-d306-4255-af1e-1144cf21635e",
   "metadata": {},
   "source": [
    "3. **Convergence Speed**: The choice of initial weights can impact the speed of convergence during training. If the weights are initialized properly, the network can converge faster to a good solution. Poor initialization can lead to slower convergence or even getting stuck in suboptimal solutions.\n",
    "\n",
    "Example: Suppose you have a neural network trying to learn a simple function, such as y = 2x. If the weights are initialized close to the optimal values, the network can converge quickly. For example:\n",
    "   - Initial weights: [[1.9, 2.1], [1.8, 2.2]]\n",
    "   - Optimal weights: [[2, 2], [2, 2]]\n",
    "\n",
    "The network will start with weights close to the optimal solution and can fine-tune them quickly during training.\n",
    "\n",
    "However, if the weights are initialized far from the optimal values, the network may take longer to converge or get stuck in suboptimal solutions. For example:\n",
    "   - Initial weights: [[0.1, 0.2], [0.3, 0.4]]\n",
    "   - Optimal weights: [[2, 2], [2, 2]]\n",
    "\n",
    "The network will start with weights far from the optimal solution and may require many iterations to converge, or it may get stuck in a suboptimal solution."
   ]
  },
  {
   "cell_type": "markdown",
   "id": "e6826d84-c33b-4905-bf41-081e5806c06c",
   "metadata": {},
   "source": [
    "4. **Avoiding Saturation**: Certain activation functions, such as the sigmoid or tanh, can saturate (become very close to 0 or 1 or -1 and 1) if the input values are too large or too small. If the weights are initialized inappropriately, it can cause the activations to be in the saturated regions, making it difficult for the network to learn and update the weights effectively.\n",
    "\n",
    "Example: Activation functions like sigmoid and tanh have saturated regions where the output becomes very close to 0 or 1 (for sigmoid) or -1 or 1 (for tanh). If the weights are initialized inappropriately, causing the inputs to the activation functions to be very large or very small, the activations will be in the saturated regions.\n",
    "\n",
    "For example, let's consider a sigmoid activation function:\n",
    "   - Input: [10, 10, 10]\n",
    "   - Weights: [[1, 1, 1], [1, 1, 1], [1, 1, 1]]\n",
    "   - Output: [0.9999, 0.9999, 0.9999]\n",
    "\n",
    "In this case, the activations are saturated, and the gradients will be very small. This makes it difficult for the network to learn and update the weights effectively.\n",
    "\n",
    "To avoid saturation, the weights should be initialized in a way that keeps the activations in the non-saturated regions of the activation functions.\n",
    "\n",
    "Remember how we computed the gradient for `tanh`:\n",
    "```\n",
    "def tanh(self):\n",
    "    x = self.data\n",
    "    t = (math.exp(2*x) - 1)/(math.exp(2*x) + 1)\n",
    "    out = Value(t, (self, ), 'tanh')\n",
    "    \n",
    "    def _backward():\n",
    "      self.grad += (1 - t**2) * out.grad <<-look here\n",
    "    out._backward = _backward\n",
    "    \n",
    "    return out\n",
    "```\n",
    "\n",
    "We can see $grad = (1 - t^2) * out.grad$ if $t = -1$ or $t = 1$ then $(1 - t^2) = 0$. The gradient from the previous layer `out.grad` won't propagate. The situation is not very different for values of $t$ very close to 1 or -1."
   ]
  },
  {
   "cell_type": "markdown",
   "id": "dd935f47-b07d-4806-ad28-e80e55f8cd28",
   "metadata": {},
   "source": [
    "When will saturation be more likely (ie when does $tanh(x)$ come close to -1 or 1? \n",
    "> Where $x$ has high values."
   ]
  },
  {
   "cell_type": "code",
   "execution_count": 1,
   "id": "d2397eb5-b597-413d-8987-b220e697ab48",
   "metadata": {},
   "outputs": [
    {
     "data": {
      "image/png": "[encoded data removed]",
      "text/plain": [
       "<Figure size 400x200 with 1 Axes>"
      ]
     },
     "metadata": {},
     "output_type": "display_data"
    }
   ],
   "source": [
    "import numpy as np\n",
    "import matplotlib.pyplot as plt\n",
    "\n",
    "x = np.linspace(-5,5,100)\n",
    "y = np.tanh(x)\n",
    "\n",
    "plt.figure(figsize=(4,2))\n",
    "plt.plot(x, y);"
   ]
  },
  {
   "cell_type": "code",
   "execution_count": 2,
   "id": "1ad95caf-c238-4166-a04d-fbc7908b50b2",
   "metadata": {},
   "outputs": [
    {
     "data": {
      "text/plain": [
       "(0.9640275800758169, -0.9640275800758169)"
      ]
     },
     "execution_count": 2,
     "metadata": {},
     "output_type": "execute_result"
    }
   ],
   "source": [
    "np.tanh(2), np.tanh(-2)"
   ]
  },
  {
   "cell_type": "markdown",
   "id": "2abd9a67-a75f-4116-982e-d5d66723442a",
   "metadata": {},
   "source": [
    "To address these issues, various **weight initialization techniques** have been proposed. Some common techniques include:\n",
    "\n",
    "- Xavier/Glorot Initialization: This method initializes the weights based on the number of input and output units in each layer, aiming to keep the variance of the activations and gradients consistent across layers.\n",
    "\n",
    "- He Initialization: This method is particularly effective for networks with ReLU activations. It initializes the weights based on the number of input units, helping to maintain the variance of the activations through the network.\n",
    "\n",
    "- Random Initialization: Initializing weights with small random values drawn from a uniform or normal distribution can help break symmetry and allow the network to learn diverse features.\n",
    "\n",
    "The choice of initialization technique depends on the specific architecture, activation functions, and problem at hand. Proper weight initialization can significantly improve the training process and the final performance of the neural network."
   ]
  },
  {
   "cell_type": "markdown",
   "id": "0b24cfd8-7cec-488a-84c1-bd7e5f11f9d3",
   "metadata": {},
   "source": [
    "### Activtions (layer outputs) and their distributions:"
   ]
  },
  {
   "cell_type": "markdown",
   "id": "65b469ae-c8b5-42ac-b59d-6728262abb01",
   "metadata": {},
   "source": [
    "**Computing Activations (repeat multiplication of Gaussians):**"
   ]
  },
  {
   "cell_type": "markdown",
   "id": "a9c2f73b-9b6d-4f4a-83bb-fa9b9f84d9aa",
   "metadata": {},
   "source": [
    "In a neural network, as the activations $(wx + b)$ are computed through repeated matrix multiplications, the standard deviation of the activations can change significantly. This phenomenon is known as the \"variance explosion\" or \"variance shrinkage\" problem, depending on whether the standard deviation increases or decreases.\n",
    "\n",
    "Suppose we have a neural network with three layers.\n",
    "The standard deviation of the activations can change based on the initialization of the weight matrices."
   ]
  },
  {
   "cell_type": "code",
   "execution_count": 3,
   "id": "a4539028-a7ab-485f-90be-a341e0bae83d",
   "metadata": {},
   "outputs": [
    {
     "name": "stdout",
     "output_type": "stream",
     "text": [
      "0.0 0.0 0.0\n"
     ]
    }
   ],
   "source": [
    "# Example where std stays 0\n",
    "x = np.array([1, 1])\n",
    "\n",
    "W1_example1 = np.array([[1.0, 0.5],\n",
    "                        [0.5, 1.0]])\n",
    "\n",
    "W2_example1 = np.array([[0.8, 0.6],\n",
    "                        [0.6, 0.8]])\n",
    "\n",
    "W3_example1 = np.array([[1.2, 0.9],\n",
    "                        [0.9, 1.2]])\n",
    "\n",
    "# # forward pass\n",
    "a1_example1 = np.dot(W1_example1, x)\n",
    "a2_example1 = np.dot(W2_example1, a1_example1)\n",
    "a3_example1 = np.dot(W3_example1, a2_example1)\n",
    "\n",
    "print(a1_example1.std(), a2_example1.std(), a3_example1.std())"
   ]
  },
  {
   "cell_type": "markdown",
   "id": "5bfaa02b-53c7-43a1-ac04-e04cfe8e8d1e",
   "metadata": {},
   "source": [
    "If the weight matrices are initialized with larger values or have a higher variance, the standard deviation of the activations will increase as they are multiplied together. This is known as the \"variance explosion\" problem."
   ]
  },
  {
   "cell_type": "code",
   "execution_count": 4,
   "id": "f60f0f24-f563-4848-9ee5-a0a581871d2b",
   "metadata": {},
   "outputs": [
    {
     "name": "stdout",
     "output_type": "stream",
     "text": [
      "2.0 12.799999999999997 203.2800000000002\n"
     ]
    }
   ],
   "source": [
    "# example\n",
    "x = np.array([1,1.])\n",
    "W1_explosion = np.array([[2.0, 3.0],\n",
    "                         [4.0, 5.0]])\n",
    "\n",
    "W2_explosion = np.array([[6.6, 7.2],\n",
    "                         [9.2, 8.6]])\n",
    "\n",
    "W3_explosion = np.array([[10.4, 11.8],\n",
    "                         [13.8, 12.4]])\n",
    "\n",
    "# # forward pass\n",
    "a1_explosion = np.dot(W1_explosion, x)\n",
    "a2_explosion = np.dot(W2_explosion, a1_explosion)\n",
    "a3_explosion = np.dot(W3_explosion, a2_explosion)\n",
    "\n",
    "print(a1_explosion.std(), a2_explosion.std(), a3_explosion.std())"
   ]
  },
  {
   "cell_type": "markdown",
   "id": "49357c5c-69c8-4e13-bd71-dc226ab077f2",
   "metadata": {},
   "source": [
    "On the other hand, if the weight matrices are initialized with smaller values or have a lower variance, the standard deviation of the activations will decrease as they are multiplied together. This is known as the \"variance shrinkage\" problem."
   ]
  },
  {
   "cell_type": "code",
   "execution_count": 5,
   "id": "10b272c5-4352-4bbb-b89c-3ca18b07ed7a",
   "metadata": {},
   "outputs": [
    {
     "data": {
      "text/plain": [
       "(0.5, 0.050000000000000044, 0.007499999999999951)"
      ]
     },
     "execution_count": 5,
     "metadata": {},
     "output_type": "execute_result"
    }
   ],
   "source": [
    "W1_shrinkage = np.array([[0.5, 1.25],\n",
    "                         [2.25, 0.5]])\n",
    "\n",
    "W2_shrinkage = np.array([[0.4, 0.3],\n",
    "                         [0.3, 0.4]])\n",
    "\n",
    "W3_shrinkage = np.array([[0.6, 0.45],\n",
    "                         [0.45, 0.6]])\n",
    "\n",
    "# forward pass\n",
    "a1_shrinkage = np.dot(W1_shrinkage, x)\n",
    "a2_shrinkage = np.dot(W2_shrinkage, a1_shrinkage)\n",
    "a3_shrinkage = np.dot(W3_shrinkage, a2_shrinkage)\n",
    "\n",
    "a1_shrinkage.std(), a2_shrinkage.std(), a3_shrinkage.std()"
   ]
  },
  {
   "cell_type": "markdown",
   "id": "640ffc8a-afed-4bde-8e78-8e842192865c",
   "metadata": {},
   "source": [
    "Information Propagation:\n",
    "\n",
    "The activations carry information forward through the network. If the activations are too small or too sparse, information may not propagate effectively to subsequent layers. This can limit the network's ability to learn and capture complex patterns.\n",
    "\n",
    "For example, consider a network with ReLU activations:\n",
    "   - Layer 1: wx + b = [-1, -2, -3]\n",
    "   - ReLU activations: [0, 0, 0]\n",
    "\n",
    "If most of the activations are zero due to the ReLU function, the information from the input may not propagate effectively to the next layer, hindering the learning process."
   ]
  },
  {
   "cell_type": "markdown",
   "id": "15f37c41-ecfa-4933-97c9-e40ae5ed897d",
   "metadata": {},
   "source": [
    "To mitigate these issues, various techniques are used:\n",
    "\n",
    "- Weight Initialization: Proper weight initialization techniques, such as Xavier/Glorot initialization or He initialization, help ensure that the activations have a suitable distribution and variance across layers.\n",
    "\n",
    "- Batch Normalization: Batch normalization is a technique that normalizes the activations within each mini-batch, reducing the impact of covariate shift and allowing the network to converge faster.\n",
    "\n",
    "- Activation Function Choice: The choice of activation function can influence the distribution and sparsity of activations. Functions like ReLU, Leaky ReLU, and ELU can help alleviate the vanishing gradient problem and promote information propagation.\n"
   ]
  },
  {
   "cell_type": "markdown",
   "id": "d95bddbf-bea0-44d9-871b-0579a62c5132",
   "metadata": {},
   "source": [
    "Let's write some code to see what happens in action."
   ]
  },
  {
   "cell_type": "markdown",
   "id": "610ed7df-186a-4397-a0b0-c98f84068b81",
   "metadata": {},
   "source": [
    "### Code"
   ]
  },
  {
   "cell_type": "markdown",
   "id": "ea7d0969-f157-4a11-943a-931aa0d0557b",
   "metadata": {},
   "source": [
    "The starting code will be the same code we used to train MLP before."
   ]
  },
  {
   "cell_type": "code",
   "execution_count": 6,
   "id": "7b38548b-0d26-435f-b8c0-d51eddf2b916",
   "metadata": {},
   "outputs": [],
   "source": [
    "import torch\n",
    "import torch.nn.functional as F"
   ]
  },
  {
   "cell_type": "code",
   "execution_count": 7,
   "id": "919dfeb6-7448-489d-a68c-0cabf3f09631",
   "metadata": {},
   "outputs": [
    {
     "data": {
      "text/plain": [
       "(32033, ['emma', 'olivia', 'ava', 'isabella', 'sophia'])"
      ]
     },
     "execution_count": 7,
     "metadata": {},
     "output_type": "execute_result"
    }
   ],
   "source": [
    "words = open(\"names.txt\").read().splitlines()\n",
    "len(words), words[: 5]"
   ]
  },
  {
   "cell_type": "code",
   "execution_count": 8,
   "id": "ca941d64-e5bf-4eb4-8f60-57150b476599",
   "metadata": {},
   "outputs": [],
   "source": [
    "vocab = sorted(set(''.join(words)))\n",
    "stoi = {s:i+1 for i,s in enumerate(vocab)}\n",
    "stoi['.'] = 0\n",
    "itos = {i:s for s,i in stoi.items()}\n",
    "\n",
    "block_size = 3"
   ]
  },
  {
   "cell_type": "code",
   "execution_count": 9,
   "id": "c59c746c-f437-44f9-b16c-96973945b881",
   "metadata": {},
   "outputs": [],
   "source": [
    "def build_dataset(words):\n",
    "    xs, ys = [], []\n",
    "    for w in words:\n",
    "        context = [0] * block_size\n",
    "        for ch in w + '.':\n",
    "            ix = stoi[ch]\n",
    "            xs.append(context)\n",
    "            ys.append(ix)\n",
    "            context = context[1: ] + [ix]\n",
    "    X = torch.tensor(xs)\n",
    "    Y = torch.tensor(ys)\n",
    "\n",
    "    print(X.shape, Y.shape)\n",
    "    return X, Y"
   ]
  },
  {
   "cell_type": "code",
   "execution_count": 10,
   "id": "b05348d6-10fb-4254-a704-d6a6b94600ce",
   "metadata": {},
   "outputs": [
    {
     "name": "stdout",
     "output_type": "stream",
     "text": [
      "torch.Size([32, 3]) torch.Size([32])\n"
     ]
    }
   ],
   "source": [
    "xs, ys = build_dataset(words[:5])"
   ]
  },
  {
   "cell_type": "code",
   "execution_count": 11,
   "id": "0ecefed3-6d4e-4e8c-83f8-fba73eb58b82",
   "metadata": {},
   "outputs": [
    {
     "name": "stdout",
     "output_type": "stream",
     "text": [
      "torch.Size([182524, 3]) torch.Size([182524])\n",
      "torch.Size([22891, 3]) torch.Size([22891])\n",
      "torch.Size([22731, 3]) torch.Size([22731])\n"
     ]
    }
   ],
   "source": [
    "# train / dev / test split\n",
    "import random\n",
    "\n",
    "random.shuffle(words)\n",
    "n1 = int(0.8 * len(words))\n",
    "n2 = int(0.9 * len(words))\n",
    "\n",
    "x_train, y_train = build_dataset(words[:n1])\n",
    "x_dev, y_dev = build_dataset(words[n1:n2])\n",
    "x_test, y_test = build_dataset(words[n2:])"
   ]
  },
  {
   "cell_type": "code",
   "execution_count": 12,
   "id": "08c6fcbf-cf19-4458-bca3-a387b6cefe86",
   "metadata": {},
   "outputs": [],
   "source": [
    "# build the MLP\n",
    "\n",
    "emb_size = 2\n",
    "n_hidden = 100\n",
    "\n",
    "C = torch.randn(len(stoi), emb_size)\n",
    "W1 = torch.randn(emb_size * block_size, n_hidden)\n",
    "b1 = torch.randn(n_hidden)\n",
    "W2 = torch.randn(n_hidden, len(stoi))\n",
    "b2 = torch.randn(len(stoi))\n",
    "\n",
    "parameters = [C, W1, W2, b1, b2]\n",
    "\n",
    "lossi = []\n",
    "stepi = []"
   ]
  },
  {
   "cell_type": "code",
   "execution_count": 13,
   "id": "6cc589d8-b396-4e31-8f80-91c267476f4e",
   "metadata": {},
   "outputs": [],
   "source": [
    "for p in parameters:\n",
    "    p.requires_grad = True"
   ]
  },
  {
   "cell_type": "code",
   "execution_count": 14,
   "id": "7d013d78-acc8-48b2-9fc4-cfb8186ea55e",
   "metadata": {},
   "outputs": [
    {
     "name": "stdout",
     "output_type": "stream",
     "text": [
      "16.761199951171875\n"
     ]
    }
   ],
   "source": [
    "for i in range(100):\n",
    "    ixs = torch.randint(0, x_train.shape[0], (32, ))\n",
    "    xs = x_train[ixs]; ys = y_train[ixs]\n",
    "    \n",
    "    xenc = C[xs]\n",
    "    hpreacts = xenc.view(-1, emb_size * block_size) @ W1 + b1\n",
    "    h = torch.tanh(hpreacts)\n",
    "    logits = h @ W2 + b2\n",
    "    loss = F.cross_entropy(logits, ys)\n",
    "    lr = 0.1\n",
    "    for p in parameters:\n",
    "        p.grad = None\n",
    "    loss.backward()\n",
    "    for p in parameters:\n",
    "        p.data += - lr * p.grad\n",
    "\n",
    "    # keep stats\n",
    "    lossi.append(loss.item())\n",
    "    stepi.append(i)\n",
    "\n",
    "    if i > 1:\n",
    "        break\n",
    "    if i % 10 == 0:\n",
    "        print(loss.item())"
   ]
  },
  {
   "cell_type": "code",
   "execution_count": 15,
   "id": "ca5ab321-7860-4fe9-af8b-3e9ea0e0738a",
   "metadata": {},
   "outputs": [],
   "source": [
    "# plt.figure(figsize=(4,3))\n",
    "# plt.plot(stepi, lossi); "
   ]
  },
  {
   "cell_type": "markdown",
   "id": "fee8f844-43bf-4bc6-a5a8-75766e9e55c6",
   "metadata": {},
   "source": [
    "**How weight initialization affects loss**\n",
    "\n",
    "Weight initialization also affects our initial loss. How do we know? We can see the very rapid drop that occurs initially before it slows down (the plot has this hockey stick appearance).\n",
    "\n",
    "Why do we suppose it isn't right? \n",
    "\n",
    "Consider the example we're working with: we have 27 characters and we try to predict the next one. At the start, we have no reason to assume one character is more likely than any other ie: probability of any charactere should be 1/27. What loss should come out of this probability? "
   ]
  },
  {
   "cell_type": "code",
   "execution_count": 16,
   "id": "f5d0529d-58c3-423b-827b-fb6a2a4e6711",
   "metadata": {},
   "outputs": [
    {
     "data": {
      "text/plain": [
       "3.295836866004329"
      ]
     },
     "execution_count": 16,
     "metadata": {},
     "output_type": "execute_result"
    }
   ],
   "source": [
    "-np.log(1/27)"
   ]
  },
  {
   "cell_type": "markdown",
   "id": "e3b7eb5f-6eac-482f-b571-f55aef68d5f5",
   "metadata": {},
   "source": [
    "This tells us our model is very far off. This happens because if the logits in the final layer are not equally distributed, then our correct character has 1/27 chance of being by chance given a high number vs 26 other characters which results in high loss."
   ]
  },
  {
   "cell_type": "code",
   "execution_count": 17,
   "id": "ccdff1bb-d360-48d6-9ad6-f3cf5e0d525d",
   "metadata": {},
   "outputs": [
    {
     "data": {
      "text/plain": [
       "torch.Size([32, 100])"
      ]
     },
     "execution_count": 17,
     "metadata": {},
     "output_type": "execute_result"
    }
   ],
   "source": [
    "hpreacts.shape"
   ]
  },
  {
   "cell_type": "code",
   "execution_count": 18,
   "id": "60245ddb-da95-44f9-b586-c101e78bf670",
   "metadata": {},
   "outputs": [
    {
     "data": {
      "image/png": "[encoded data removed]",
      "text/plain": [
       "<Figure size 900x300 with 2 Axes>"
      ]
     },
     "metadata": {},
     "output_type": "display_data"
    }
   ],
   "source": [
    "fig, axs = plt.subplots(1, 2, figsize=(9,3))\n",
    "axs[0].hist(hpreacts.view(-1).detach().numpy());\n",
    "axs[1].hist(h.view(-1).detach().numpy());\n",
    "\n",
    "axs[0].set_title(\"Activations\");\n",
    "axs[1].set_title(\"After tanh\");"
   ]
  },
  {
   "cell_type": "code",
   "execution_count": 19,
   "id": "9b79d982-2672-4919-b8a9-d9ac6e9b1833",
   "metadata": {},
   "outputs": [
    {
     "data": {
      "text/plain": [
       "(tensor(-7.7428, grad_fn=<MinBackward1>),\n",
       " tensor(6.4985, grad_fn=<MaxBackward1>))"
      ]
     },
     "execution_count": 19,
     "metadata": {},
     "output_type": "execute_result"
    }
   ],
   "source": [
    "hpreacts.min(), hpreacts.max()"
   ]
  },
  {
   "cell_type": "markdown",
   "id": "dc6f62cf-88b7-4d55-bb39-be9089a4d6d6",
   "metadata": {},
   "source": [
    "We can see activations have very wide range ~ (-9, 9) which results in high saturation of tanh (many values close to -1 and 1). We're not having major problems in this example because it's a very small network and small example so we're still able to learn. "
   ]
  },
  {
   "cell_type": "markdown",
   "id": "bc8a28ce-9aaa-46dc-80db-2d3732266a5b",
   "metadata": {},
   "source": [
    "### Solution 1: Scaling weights and biases at initialization by sqrt(fan_in) a.k.a num inputs"
   ]
  },
  {
   "cell_type": "code",
   "execution_count": 20,
   "id": "6b2eb141-bc68-4134-b01d-0cd0c5d3f19d",
   "metadata": {},
   "outputs": [],
   "source": [
    "# build the MLP\n",
    "block_size = 3\n",
    "emb_size = 2\n",
    "n_hidden = 100\n",
    "\n",
    "C = torch.randn(len(stoi), emb_size)\n",
    "W1 = torch.randn(emb_size * block_size, n_hidden) * 5/3 / ((emb_size * block_size)**0.5)\n",
    "b1 = torch.randn(n_hidden) * 0.01\n",
    "W2 = torch.randn(n_hidden, len(stoi)) * 0.01\n",
    "b2 = torch.randn(len(stoi)) * 0\n",
    "\n",
    "parameters = [C, W1, W2, b1, b2]\n",
    "\n",
    "lossi = []\n",
    "stepi = []"
   ]
  },
  {
   "cell_type": "markdown",
   "id": "d39d8bd2-6095-4a5c-a2e9-c23044503a11",
   "metadata": {},
   "source": [
    "This multiplication `W1 = ... * 5/3 / ((emb_size * block_size)**0.5)` is in effect scaling down the standard deviation of this gaussian weight distribution. \n",
    "\n",
    "In torch, `torch.randn(1000) * 0.2` the 0.2 ends up being the standard deviation of this distribution. "
   ]
  },
  {
   "cell_type": "code",
   "execution_count": 21,
   "id": "57f0c05c-8eb9-4fb4-895d-236a6b628995",
   "metadata": {},
   "outputs": [
    {
     "name": "stdout",
     "output_type": "stream",
     "text": [
      "3.306441307067871\n"
     ]
    }
   ],
   "source": [
    "for p in parameters:\n",
    "    p.requires_grad = True\n",
    "\n",
    "for i in range(100):\n",
    "    ixs = torch.randint(0, x_train.shape[0], (32, ))\n",
    "    xs = x_train[ixs]; ys = y_train[ixs]\n",
    "    \n",
    "    xenc = C[xs]\n",
    "    hpreacts = xenc.view(-1, emb_size * block_size) @ W1 + b1\n",
    "    h = torch.tanh(hpreacts)\n",
    "    logits = h @ W2 + b2\n",
    "    loss = F.cross_entropy(logits, ys)\n",
    "    lr = 0.1\n",
    "    for p in parameters:\n",
    "        p.grad = None\n",
    "    loss.backward()\n",
    "    for p in parameters:\n",
    "        p.data += - lr * p.grad\n",
    "\n",
    "    # keep stats\n",
    "    lossi.append(loss.item())\n",
    "    stepi.append(i)\n",
    "\n",
    "    if i > 1:\n",
    "        break\n",
    "    if i % 10 == 0:\n",
    "        print(loss.item())"
   ]
  },
  {
   "cell_type": "markdown",
   "id": "d08eb446-9505-437d-85ef-b23ffc1e0999",
   "metadata": {},
   "source": [
    "When we scale down the weights W2 (make the last layer less confident) we get the desired initial loss as 1/27.\n",
    "\n",
    "When we scale down W1 we get less widespread activations and more well-behaved at tanh.\n",
    "\n",
    "When activations are well behaved in forward pass, this makes gradients also well-behaved."
   ]
  },
  {
   "cell_type": "code",
   "execution_count": 22,
   "id": "582a2e0c-9925-47d0-b728-665b15077039",
   "metadata": {},
   "outputs": [
    {
     "data": {
      "image/png": "[encoded data removed]",
      "text/plain": [
       "<Figure size 900x300 with 2 Axes>"
      ]
     },
     "metadata": {},
     "output_type": "display_data"
    }
   ],
   "source": [
    "fig, axs = plt.subplots(1, 2, figsize=(9,3))\n",
    "axs[0].hist(hpreacts.view(-1).detach().numpy());\n",
    "axs[1].hist(h.view(-1).detach().numpy());\n",
    "\n",
    "axs[0].set_title(\"Activations\");\n",
    "axs[1].set_title(\"After tanh\");"
   ]
  },
  {
   "cell_type": "markdown",
   "id": "c4a246e6-f14b-4fe4-b151-88661c3d5fe3",
   "metadata": {},
   "source": [
    "### Solution 2: Normalization"
   ]
  },
  {
   "cell_type": "markdown",
   "id": "648a3ada-905c-4b35-9fce-28964dc91132",
   "metadata": {},
   "source": [
    "We've seen what impact the activations could have on our network learning:\n",
    "- Too small and tanh won't learn anything\n",
    "- Too large and tanh will be saturated and gradients won't flow.\n",
    "\n",
    "We want our activations throughout the network to be roughly normally distributed. To do so, it won't be fesible to keep doing this by hand as we did above especially when the networks become deeper. \n",
    "\n",
    "Solution: if we want activations normally distributed, why not just normalize them at each training loop. \n",
    "\n",
    "NB: Keep in mind, normalization is constraining their values and thus contrains learning. We thus will give them some free parameters to learn (scale and shift parameters). \n",
    "\n",
    "NB: When doing inference, we want to pass one example through the network and get out a prediction. If we incorporate a normalization step over batches during training, we'll need to similarily pass a batch during inference. To avoid this, compute running mean and variance and use them at inference time."
   ]
  },
  {
   "cell_type": "code",
   "execution_count": 23,
   "id": "dc564ad0-377a-48bc-9380-f9539a6fffe3",
   "metadata": {},
   "outputs": [],
   "source": [
    "emb_size = 2\n",
    "n_hidden = 100\n",
    "\n",
    "C = torch.randn(len(stoi), emb_size)\n",
    "W1 = torch.randn(emb_size * block_size, n_hidden) * 5/3 / ((emb_size * block_size)**0.5)\n",
    "# b1 = torch.randn(n_hidden) * 0.01 -> no longer necessary since we're normalizing\n",
    "W2 = torch.randn(n_hidden, len(stoi)) * 0.01\n",
    "b2 = torch.randn(len(stoi)) * 0\n",
    "\n",
    "# for batchnorm\n",
    "bngain = torch.ones((1, n_hidden))\n",
    "bnbias = torch.zeros((1, n_hidden))\n",
    "\n",
    "parameters = [C, W1, W2, b2, bngain, bnbias]\n",
    "\n",
    "lossi = []\n",
    "stepi = []\n",
    "\n",
    "# compute running mean and variance to use at inference \n",
    "bnmean_running = torch.zeros((1, n_hidden))\n",
    "bnvar_running = torch.ones((1, n_hidden))"
   ]
  },
  {
   "cell_type": "code",
   "execution_count": 24,
   "id": "a532be78-cef9-4448-96c7-3eaaf6fffd59",
   "metadata": {},
   "outputs": [
    {
     "name": "stdout",
     "output_type": "stream",
     "text": [
      "3.302825450897217\n",
      "1.9864863157272339\n",
      "2.2923386096954346\n",
      "2.3713159561157227\n",
      "2.3549983501434326\n"
     ]
    }
   ],
   "source": [
    "for p in parameters:\n",
    "    p.requires_grad = True\n",
    "\n",
    "for i in range(50000):\n",
    "    ixs = torch.randint(0, x_train.shape[0], (32, ))\n",
    "    xs = x_train[ixs]; ys = y_train[ixs]\n",
    "    \n",
    "    xenc = C[xs]\n",
    "    hpreacts = xenc.view(-1, emb_size * block_size) @ W1\n",
    "\n",
    "    # batch normalization\n",
    "    bnmeani = hpreacts.mean(dim=0, keepdim=True)\n",
    "    bnvari = hpreacts.var(dim=0, keepdim=True)\n",
    "    hnorm = (hpreacts - bnmeani) / torch.sqrt(bnvari)\n",
    "    hnorm = hnorm * bngain + bnbias\n",
    "\n",
    "    # compute running mean and variance\n",
    "    with torch.no_grad():\n",
    "        bnmean_running = 0.999 * bnmean_running + 0.001 * bnmeani\n",
    "        bnvar_running = 0.999 * bnvar_running + 0.001 * bnvari\n",
    "    \n",
    "    h = torch.tanh(hnorm)\n",
    "    logits = h @ W2 + b2\n",
    "    loss = F.cross_entropy(logits, ys)\n",
    "    \n",
    "    lr = 0.1 if i < 30000 else 0.01\n",
    "    for p in parameters:\n",
    "        p.grad = None\n",
    "    loss.backward()\n",
    "    for p in parameters:\n",
    "        p.data += - lr * p.grad\n",
    "\n",
    "    # keep stats\n",
    "    lossi.append(loss.item())\n",
    "    stepi.append(i)\n",
    "\n",
    "    # if i > 1:\n",
    "    #     break\n",
    "    if i % 10000 == 0:\n",
    "        print(loss.item())"
   ]
  },
  {
   "cell_type": "code",
   "execution_count": 25,
   "id": "9c7e580e-4185-43c7-846d-cbb654ffe469",
   "metadata": {},
   "outputs": [
    {
     "data": {
      "text/plain": [
       "torch.Size([32, 100])"
      ]
     },
     "execution_count": 25,
     "metadata": {},
     "output_type": "execute_result"
    }
   ],
   "source": [
    "hpreacts.shape"
   ]
  },
  {
   "cell_type": "code",
   "execution_count": 26,
   "id": "357b7892-0cdf-4042-b5f8-91788eaaa6f7",
   "metadata": {},
   "outputs": [
    {
     "data": {
      "image/png": "[encoded data removed]",
      "text/plain": [
       "<Figure size 400x200 with 1 Axes>"
      ]
     },
     "metadata": {},
     "output_type": "display_data"
    }
   ],
   "source": [
    "plt.figure(figsize=(4,2));\n",
    "plt.plot(stepi, lossi);"
   ]
  },
  {
   "cell_type": "code",
   "execution_count": 27,
   "id": "470c8b26-598f-4466-8aa4-c533d734b7ee",
   "metadata": {},
   "outputs": [
    {
     "data": {
      "image/png": "[encoded data removed]",
      "text/plain": [
       "<Figure size 900x300 with 2 Axes>"
      ]
     },
     "metadata": {},
     "output_type": "display_data"
    }
   ],
   "source": [
    "fig, axs = plt.subplots(1, 2, figsize=(9,3))\n",
    "axs[0].hist(hnorm.view(-1).detach().numpy());\n",
    "axs[1].hist(h.view(-1).detach().numpy());\n",
    "\n",
    "axs[0].set_title(\"Activations\");\n",
    "axs[1].set_title(\"After tanh\");"
   ]
  },
  {
   "cell_type": "code",
   "execution_count": 28,
   "id": "233c3114-a376-4b9b-a2a9-04ed5d3f7056",
   "metadata": {},
   "outputs": [],
   "source": [
    "# calculate loss \n",
    "\n",
    "@torch.no_grad()\n",
    "def calc_loss(dataset):\n",
    "    x,y = {'train': (x_train, y_train),\n",
    "           'dev': (x_dev, y_dev),\n",
    "           'test': (x_test, y_test)} [dataset]\n",
    "    \n",
    "    xenc = C[x].view(-1, emb_size * block_size)\n",
    "    h = torch.tanh(xenc @ W1 + bnmean_running / torch.sqrt(bnvar_running))\n",
    "    logits = h @ W2 + b2\n",
    "    loss = F.cross_entropy(logits, y)\n",
    "    print(dataset, loss.item())"
   ]
  },
  {
   "cell_type": "code",
   "execution_count": 29,
   "id": "4f38ac32-8dfc-4847-989f-a5c906989c68",
   "metadata": {},
   "outputs": [
    {
     "name": "stdout",
     "output_type": "stream",
     "text": [
      "train 3.201066732406616\n"
     ]
    }
   ],
   "source": [
    "calc_loss('train')"
   ]
  },
  {
   "cell_type": "code",
   "execution_count": 30,
   "id": "47386cd0-95f9-4285-a79f-bd5006ff4bcd",
   "metadata": {},
   "outputs": [
    {
     "name": "stdout",
     "output_type": "stream",
     "text": [
      "dev 3.1946511268615723\n"
     ]
    }
   ],
   "source": [
    "calc_loss('dev')"
   ]
  },
  {
   "cell_type": "markdown",
   "id": "ea1082e2-14db-4748-9eeb-01b5c7266e2d",
   "metadata": {},
   "source": [
    "### torchifying the code:"
   ]
  },
  {
   "cell_type": "markdown",
   "id": "c4c38d13-f84b-40aa-a858-6ff215fa931d",
   "metadata": {},
   "source": [
    "Let's rewrite the code similar to pytorch's api and train with larger network."
   ]
  },
  {
   "cell_type": "code",
   "execution_count": 31,
   "id": "46438fd3-3ba5-4a49-9344-dc3b70e15a71",
   "metadata": {},
   "outputs": [],
   "source": [
    "class Linear:\n",
    "    def __init__(self, fan_in, fan_out, bias=False):\n",
    "        self.w = torch.randn(fan_in, fan_out) / fan_in**0.5\n",
    "        self.b = torch.zeros(fan_out) if bias else None\n",
    "\n",
    "    def __call__(self, x):\n",
    "        out = x @ self.w\n",
    "        if self.b:\n",
    "            return out + self.b\n",
    "        else:\n",
    "            return out\n",
    "\n",
    "    def parameters(self):\n",
    "        return [self.w] + ([] if self.b is None else [self.b])"
   ]
  },
  {
   "cell_type": "code",
   "execution_count": 32,
   "id": "155948fc-fdad-4191-be97-dfb816b72108",
   "metadata": {},
   "outputs": [
    {
     "data": {
      "text/plain": [
       "(torch.Size([2, 3]), torch.Size([2, 5]))"
      ]
     },
     "execution_count": 32,
     "metadata": {},
     "output_type": "execute_result"
    }
   ],
   "source": [
    "l1 = Linear(3,5)\n",
    "x = torch.randn(2,3)\n",
    "x.shape, l1(x).shape"
   ]
  },
  {
   "cell_type": "code",
   "execution_count": 33,
   "id": "89ebced7-c3a0-4754-b0c0-365e4c2c233a",
   "metadata": {},
   "outputs": [
    {
     "data": {
      "text/plain": [
       "[tensor([[ 0.7557,  0.3007,  0.1576, -0.3674, -0.1445],\n",
       "         [ 0.3301,  0.1823,  0.0873, -0.1320, -0.2583],\n",
       "         [-0.1434,  0.0366,  0.4915,  0.2270,  0.0598]])]"
      ]
     },
     "execution_count": 33,
     "metadata": {},
     "output_type": "execute_result"
    }
   ],
   "source": [
    "l1.parameters()"
   ]
  },
  {
   "cell_type": "code",
   "execution_count": 34,
   "id": "1b0d90ca-2679-43fe-a5a4-29c856f9922d",
   "metadata": {},
   "outputs": [],
   "source": [
    "class Tanh:\n",
    "    def __call__(self, x):\n",
    "        return torch.tanh(x)\n",
    "    def parameters(self):\n",
    "        return []"
   ]
  },
  {
   "cell_type": "code",
   "execution_count": 35,
   "id": "74b1835d-7a78-44f6-8462-bd3edbbd3eb0",
   "metadata": {},
   "outputs": [
    {
     "data": {
      "text/plain": [
       "tensor([[ 0.3079,  0.6316, -0.1997],\n",
       "        [ 0.8381, -0.9370,  0.8071]])"
      ]
     },
     "execution_count": 35,
     "metadata": {},
     "output_type": "execute_result"
    }
   ],
   "source": [
    "t = Tanh()\n",
    "t(x)"
   ]
  },
  {
   "cell_type": "code",
   "execution_count": 36,
   "id": "cb0ca5cc-9aa0-4454-b73b-2ded00d2594d",
   "metadata": {},
   "outputs": [],
   "source": [
    "class BatchNorm1d:\n",
    "    def __init__(self, nout, eps=1e-05, momentum=0.1):\n",
    "        # nout is num neurons of prev linear layer\n",
    "        self.eps = eps\n",
    "        self.momentum = momentum\n",
    "        self.training = True\n",
    "        \n",
    "        # free params to train\n",
    "        self.gain = torch.ones(nout)\n",
    "        self.bias = torch.zeros(nout)\n",
    "        \n",
    "        # keep for inference\n",
    "        self.running_mean = torch.zeros(nout)\n",
    "        self.running_var = torch.ones(nout)\n",
    "\n",
    "    def __call__(self, x):\n",
    "        if self.training:\n",
    "            bnmeani = x.mean(dim=0, keepdim=True)\n",
    "            bnvari = x.var(dim=0, keepdim=True)\n",
    "        else:\n",
    "            bnmeani = self.running_mean\n",
    "            bnvari = self.running_var\n",
    "            \n",
    "        xi = (x - bnmeani) / torch.sqrt(self.eps + bnvari)\n",
    "        out = self.gain * xi  + self.bias\n",
    "\n",
    "        if self.training:\n",
    "            with torch.no_grad():\n",
    "                self.running_mean = (1 - self.momentum) * self.running_mean + self.momentum * bnmeani\n",
    "                self.running_var =  (1 - self.momentum) * self.running_var  + self.momentum * bnvari\n",
    "\n",
    "        return out\n",
    "\n",
    "    def parameters(self):\n",
    "        return [self.gain, self.bias]\n",
    "        "
   ]
  },
  {
   "cell_type": "code",
   "execution_count": 37,
   "id": "e64fc15b-e40a-4af4-a460-c442ba32bbd3",
   "metadata": {},
   "outputs": [
    {
     "data": {
      "text/plain": [
       "tensor([[ 0.7070,  0.7067, -0.7071, -0.7070, -0.7071],\n",
       "        [-0.7070, -0.7067,  0.7071,  0.7070,  0.7071]])"
      ]
     },
     "execution_count": 37,
     "metadata": {},
     "output_type": "execute_result"
    }
   ],
   "source": [
    "bn = BatchNorm1d(5)\n",
    "bn(l1(x))"
   ]
  },
  {
   "cell_type": "code",
   "execution_count": 38,
   "id": "e6e5c9c7-9aef-470d-928a-c77649115ce7",
   "metadata": {},
   "outputs": [
    {
     "data": {
      "text/plain": [
       "[tensor([1., 1., 1., 1., 1.]), tensor([0., 0., 0., 0., 0.])]"
      ]
     },
     "execution_count": 38,
     "metadata": {},
     "output_type": "execute_result"
    }
   ],
   "source": [
    "bn.parameters()"
   ]
  },
  {
   "cell_type": "code",
   "execution_count": 98,
   "id": "06f946f8-25be-4088-982b-bacc95dccdc0",
   "metadata": {},
   "outputs": [],
   "source": [
    "# prepare NN for training\n",
    "\n",
    "emb_size = 3\n",
    "n_hidden = 100\n",
    "\n",
    "lossi = []\n",
    "stepi = []\n",
    "\n",
    "C = torch.randn((len(stoi), emb_size), )\n",
    "layers = [Linear(block_size * emb_size, n_hidden), BatchNorm1d(n_hidden), Tanh(),\n",
    "          Linear(n_hidden, n_hidden), BatchNorm1d(n_hidden), Tanh(),\n",
    "          Linear(n_hidden, n_hidden), BatchNorm1d(n_hidden), Tanh(),\n",
    "          Linear(n_hidden, n_hidden), BatchNorm1d(n_hidden), Tanh(),\n",
    "          Linear(n_hidden, n_hidden), BatchNorm1d(n_hidden), Tanh(),\n",
    "          Linear(n_hidden, len(stoi)), BatchNorm1d(len(stoi)),]\n",
    "\n",
    "parameters = [C] + [p for layer in layers for p in layer.parameters()]\n",
    "len(parameters)\n",
    "\n",
    "for p in parameters:\n",
    "    p.requires_grad = True\n",
    "\n",
    "with torch.no_grad():\n",
    "    # make last layer less confident\n",
    "    layers[-1].gain *= 0.1\n",
    "\n",
    "    # scale weights of linear layers"
   ]
  },
  {
   "cell_type": "code",
   "execution_count": 99,
   "id": "d2e4bfba-91d9-499d-aa34-7f1d0c53d8af",
   "metadata": {},
   "outputs": [
    {
     "data": {
      "text/plain": [
       "(torch.Size([32, 3]), torch.Size([32]))"
      ]
     },
     "execution_count": 99,
     "metadata": {},
     "output_type": "execute_result"
    }
   ],
   "source": [
    "xs.shape, ys.shape"
   ]
  },
  {
   "cell_type": "code",
   "execution_count": 100,
   "id": "74ed050f-35d5-41db-9cf7-dd9e30fe6419",
   "metadata": {},
   "outputs": [
    {
     "name": "stdout",
     "output_type": "stream",
     "text": [
      "      0/ 200000: 3.3184\n",
      "  10000/ 200000: 2.2918\n",
      "  20000/ 200000: 2.2971\n",
      "  30000/ 200000: 2.3839\n",
      "  40000/ 200000: 2.1117\n",
      "  50000/ 200000: 2.6122\n",
      "  60000/ 200000: 2.5618\n",
      "  70000/ 200000: 2.3998\n",
      "  80000/ 200000: 2.0350\n",
      "  90000/ 200000: 2.0512\n",
      " 100000/ 200000: 2.5447\n",
      " 110000/ 200000: 1.9068\n",
      " 120000/ 200000: 1.9693\n",
      " 130000/ 200000: 2.0481\n",
      " 140000/ 200000: 1.8466\n",
      " 150000/ 200000: 2.4283\n",
      " 160000/ 200000: 1.8406\n",
      " 170000/ 200000: 2.2939\n",
      " 180000/ 200000: 1.7709\n",
      " 190000/ 200000: 1.5341\n"
     ]
    }
   ],
   "source": [
    "max_steps = 200000\n",
    "batch_size = 32\n",
    "\n",
    "for i in range(max_steps):\n",
    "    ixs = torch.randint(0, x_train.shape[0], (batch_size, ))\n",
    "    xs = x_train[ixs]\n",
    "    ys = y_train[ixs]\n",
    "    \n",
    "    xenc = C[xs]\n",
    "    xin = xenc.view(-1, emb_size * block_size)\n",
    "    for layer in layers:\n",
    "        xin = layer(xin)\n",
    "    loss = F.cross_entropy(xin, ys)\n",
    "    for p in parameters:\n",
    "        p.grad = None\n",
    "    loss.backward()\n",
    "    lr = 0.1 if i < 150000 else 0.01\n",
    "    for p in parameters:\n",
    "        p.data += -lr * p.grad\n",
    "\n",
    "    if i % 10000 == 0: # print every once in a while\n",
    "        print(f'{i:7d}/{max_steps:7d}: {loss.item():.4f}')\n",
    "    stepi.append(i)\n",
    "    lossi.append(loss.log10().item())"
   ]
  },
  {
   "cell_type": "code",
   "execution_count": null,
   "id": "6e072380-cc57-4bf2-9a69-17ff4bc462e6",
   "metadata": {},
   "outputs": [],
   "source": []
  }
 ],
 "metadata": {
  "kernelspec": {
   "display_name": "Python 3 (ipykernel)",
   "language": "python",
   "name": "python3"
  },
  "language_info": {
   "codemirror_mode": {
    "name": "ipython",
    "version": 3
   },
   "file_extension": ".py",
   "mimetype": "text/x-python",
   "name": "python",
   "nbconvert_exporter": "python",
   "pygments_lexer": "ipython3",
   "version": "3.10.14"
  }
 },
 "nbformat": 4,
 "nbformat_minor": 5
}
