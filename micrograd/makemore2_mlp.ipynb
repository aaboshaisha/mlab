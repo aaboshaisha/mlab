{
 "cells": [
  {
   "cell_type": "markdown",
   "id": "b9093c6f-3915-4059-bab6-194a0165f652",
   "metadata": {},
   "source": [
    "### From counting to embeddings:"
   ]
  },
  {
   "cell_type": "markdown",
   "id": "e344ff30-ee01-4d19-8a89-3f1d18d01462",
   "metadata": {},
   "source": [
    "Previously our solution to the problem of predicting the next token / character was to initially build a probability distribution over the next token `P(ch2|ch1)` by counting the frequencies of occurence from the data. We built a 27 x 27 table where each cell represented `P(ch2|ch1)` for all possible character pairs. We then could sample from this model to generate new names. \n",
    "\n",
    "We then tried to use a simple one layer NN to learn these probabilities instead of explcitly counting them from the data. We extracted input and output dataset from our data and used gradient descent to optimize the weights of the model. The weights would then be transformed by some mathematical operations to represent probabilties we could compute loss for and also sample from after we train the model. "
   ]
  },
  {
   "cell_type": "markdown",
   "id": "9c08e11a-7836-4249-9eca-9b47678b68e2",
   "metadata": {},
   "source": [
    "The problem with the frequency table approach is that it can't scale. If we try to predict the next character given 1 previous character (called context of 1), we want a 27 x 27 table. Suppose rows represent the previous character, think what the size of the row needs to be if we want to take 2 characters / tokens as context, or 3 or more ..:\n",
    "- context of 1: 27 rows\n",
    "- context of 2: 27 x 27 rows (possible combinations of 2 tokens)\n",
    "- context of 3: 27 x 27 x 27\n",
    "- and so on\n",
    "\n",
    "We'll find the size of the table grows \"exponentially\" with the size of the context. \n",
    "\n",
    "This won't work very well. This is why we needed the neural network approach. It's more flexible and scales better."
   ]
  },
  {
   "cell_type": "markdown",
   "id": "be38e771-ca5e-43c8-99b9-c45debc67675",
   "metadata": {},
   "source": [
    "More context, joint probability and dimensionality;\n",
    "\n",
    "When taking 1 token as context, we're trying to learn `P(ch2 | ch1)`. We did it via counting: \n",
    "\n",
    "$$P(\\text{{ch2}}|\\text{{ch1}}) = \\frac{{\\text{{Count}}(\\text{{ch2, ch1}})}}{{\\text{{Count}}(\\text{{ch1, ch1}}) + \\text{{Count}}(\\text{{ch2, ch1}}) + \\ldots + \\text{{Count}}(\\text{{ch26, ch1}})}}$$\n",
    "\n",
    "ie:\n",
    "\n",
    "$$P(\\text{ch2}|\\text{ch1}) = \\frac{\\text{Count}(\\text{ch2, ch1})}{\\sum_{i=1}^{26} \\text{Count}(\\text{chi, ch1})}$$\n",
    "\n",
    "\n",
    "If we take 2 as context, we'll be learning `(P ch3 | ch1, ch2)`\n",
    "\n",
    "\n",
    "$$P(\\text{ch3} | \\text{ch1}, \\text{ch2}) = \\frac{\\text{Count}(\\text{ch1, ch2, ch3})}{\\text{Count}(\\text{ch1, ch2, a}) + \\text{Count}(\\text{ch1, ch2, b}) + \\ldots + \\text{Count}(\\text{ch1, ch2, z})}$$\n",
    "\n",
    "In this expanded version:\n",
    "\n",
    "- $\\text{Count}(\\text{ch1, ch2, ch3})$ represents the frequency of the sequence $\\text{ch1, ch2}$ immediately followed by $\\text{ch3}$.\n",
    "\n",
    "- The denominator is the sum of counts for the sequence $\\text{ch1, ch2}$ followed by each possible character in the English alphabet (from 'a' to 'z'). This sum gives the total number of times the sequence $\\text{ch1, ch2}$ is followed by any character, serving as the normalization factor to convert raw counts into a probability."
   ]
  },
  {
   "cell_type": "markdown",
   "id": "3a3c6695-1c76-41cb-a90a-63fe4944a87e",
   "metadata": {},
   "source": [
    "Using the neural network, we try to learn probability model. The core idea is that the likelihood of any given token sequence in a language can be broken down into the product of conditional probabilities. Each token's probability depends on the sequence of tokens that precede it.\n",
    "\n",
    "Consider a sequence of tokens/characters from 1 to $T$. The probability of this entire sequence is the product of the conditional probabilities of each token/character given all the previous tokens/characters. \n",
    "\n",
    "$$\\hat{P}(t_{1}^{T}) = \\hat{P}(t_1) \\times \\hat{P}(t_2 | t_1) \\times \\hat{P}(t_3 | t_1, t_2) \\times \\ldots \\times \\hat{P}(t_T | t_{1}^{T-1})$$\n",
    "\n",
    "=\n",
    "\n",
    "$$\\hat{P}(t_{1}^{T}) = \\prod_{t=1}^{T} \\hat{P}(t_t | t_{1}^{t-1})$$\n",
    "\n",
    "\n",
    "**In a nutshell, the n-gram models (bigram, trigram, etc) construct tables of conditional probabilities for the next character.**"
   ]
  },
  {
   "cell_type": "markdown",
   "id": "9bee0984-a125-410e-876a-540168b92fbd",
   "metadata": {},
   "source": [
    "The question now is, how do we provide more context to the NN. We also want to make the network itself bigger (more layers).\n",
    "\n",
    "In building our 1 layer NN, we stumbled upon the idea of the embedding being equivalent to lookup table. We first turned tokens to integers. We then did one-not-encoding of integers in order to be able to provide them as input to the NN. The NN was one layer of neurons that do dot product of their inputs with synpases / weights. We saw how doing matrix multiplication of one-hot-encoded vector with a matrix of weights is equivalent to pulling out / indexing into the matrix to pluck out the row vector of weights that represented the probability distribution for any character X over its next possible 27 characters."
   ]
  },
  {
   "cell_type": "markdown",
   "id": "7f3f6ed2-e257-4f00-897e-c87b1f913d75",
   "metadata": {},
   "source": [
    "Now, we'll think of embedding in a different sense as a different way of encoding inputs (characters / tokens) provided to the neural network.\n",
    "\n",
    "In the 1-layer approach, we used one-hot encoding (where each token is represented by a vector of the size of the vocabulary with all zeros except for a single one at the index representing the token). This is a sparse representation and could be very high dimensional (think of not a character-level language model of 26 characters but a text vocabulary of size 100,000 that could generate 10,000 tokens - this is a 10,000 vector input to your network).\n",
    "\n",
    "Instead, we'll use token embeddings. The idea is to represent each token not as 1 in a one-hot-encoded vector space of vocabulary but we'll think of each token / word as having some hidden characteristics / features (if we're thinking of objects in the real world, this is the difference between representing each object as 1 in a one-hot-encoded table of ALL objects inte world but instead thinking of its characteristics such as size, shape, color, etc and representing each object as a vector of initially random numbers $[0.3, 0.5, .. ]$ that represent measurements over these characteristics / features). Embeddings as such compactly encode tokens in a much smaller dimensional space. \n",
    "\n",
    "The innovation here becomes that we allow the neural network not only to learn the sequence of tokens, but also learn the embeddings themselves. The distributional hypothesis (the foundational idea behind word embeddings), posits that words that appear in similar contexts tend to have similar meanings. By training models on large corpora of text, embeddings inherently learn these patterns, as the model's performance improves when similar words have similar embeddings.\n",
    "\n",
    "Another useful gain is the process of learning embeddings effectively acts as a form of dimensionality reduction, where the high-dimensional space of the vocabulary is compressed into a lower-dimensional, dense vector space. This compression forces the model to encode as much information as possible about each word into a limited number of dimensions, leading to the emergence of semantically and syntactically meaningful patterns.\n",
    "\n",
    "The goal is then to simultaneously learn the word feature vectors and the parameters of the joint probability function."
   ]
  },
  {
   "cell_type": "code",
   "execution_count": 35,
   "id": "9aa9c694-3d9b-423d-89bc-960116e190fb",
   "metadata": {},
   "outputs": [],
   "source": [
    "import numpy as np\n",
    "import matplotlib.pyplot as plt\n",
    "import torch\n",
    "import torch.nn.functional as F "
   ]
  },
  {
   "cell_type": "markdown",
   "id": "1588e323-fa36-4dd9-a2f8-ce73ee51e8f0",
   "metadata": {},
   "source": [
    "### Embeddings:"
   ]
  },
  {
   "cell_type": "markdown",
   "id": "8c41f39d-0ef6-46df-b813-9367cebfd232",
   "metadata": {},
   "source": [
    "We'll build our model following the [Bengio et al](https://www.jmlr.org/papers/volume3/bengio03a/bengio03a.pdf) paper. We'll build it for our character level language model. We'll take 3 characters as input. We'll embed these in an intially 2D embedding matrix. We'll have 1 hidden layer and final output layer."
   ]
  },
  {
   "cell_type": "code",
   "execution_count": 6,
   "id": "ea41cf45-daaf-4312-9426-a946732c3f7f",
   "metadata": {},
   "outputs": [
    {
     "data": {
      "text/plain": [
       "['emma', 'olivia', 'ava', 'isabella', 'sophia']"
      ]
     },
     "execution_count": 6,
     "metadata": {},
     "output_type": "execute_result"
    }
   ],
   "source": [
    "words = open('names.txt').read().splitlines()\n",
    "words[:5]"
   ]
  },
  {
   "cell_type": "code",
   "execution_count": 16,
   "id": "2fe0ad19-1113-4db2-8e70-e65672103978",
   "metadata": {},
   "outputs": [
    {
     "data": {
      "text/plain": [
       "['a', 'b', 'c', 'd', 'e']"
      ]
     },
     "execution_count": 16,
     "metadata": {},
     "output_type": "execute_result"
    }
   ],
   "source": [
    "vocab = sorted(list(set(''.join(words))))\n",
    "vocab[:5]"
   ]
  },
  {
   "cell_type": "code",
   "execution_count": 20,
   "id": "2988ced5-8196-49c3-8a2b-aa1cc5d40947",
   "metadata": {},
   "outputs": [],
   "source": [
    "# encoding and decoding\n",
    "stoi = {s:i+1 for i,s in enumerate(vocab)}\n",
    "stoi['.'] = 0\n",
    "itos = {i:s for s,i in stoi.items()}"
   ]
  },
  {
   "cell_type": "code",
   "execution_count": 27,
   "id": "2f385d01-f778-48b4-a65e-bfeabe0b130c",
   "metadata": {},
   "outputs": [
    {
     "name": "stdout",
     "output_type": "stream",
     "text": [
      "['.', '.', '.'] .\n",
      "['.', '.', '.'] e\n",
      "['.', '.', 'e'] m\n",
      "['.', 'e', 'm'] m\n",
      "['e', 'm', 'm'] a\n",
      "['m', 'm', 'a'] .\n"
     ]
    }
   ],
   "source": [
    "sz = 3\n",
    "context = sz * ['.']\n",
    "for w in words[:1]:\n",
    "    w = '.' + w + '.'\n",
    "    for ch in w:\n",
    "        print(context, ch)\n",
    "        context = context[1:] + [ch]"
   ]
  },
  {
   "cell_type": "code",
   "execution_count": 54,
   "id": "b3f6eefe-9818-4dbe-b8c8-67e431e41663",
   "metadata": {},
   "outputs": [
    {
     "data": {
      "text/plain": [
       "(torch.Size([32, 3]), torch.Size([32]))"
      ]
     },
     "execution_count": 54,
     "metadata": {},
     "output_type": "execute_result"
    }
   ],
   "source": [
    "xs, ys = [], []\n",
    "context_size = 3\n",
    "n = 5 #number of words to consider in dataset \n",
    "\n",
    "context = context_size * [0]\n",
    "for w in words[:n]:\n",
    "    for ch in w + '.':\n",
    "        ix = stoi[ch]\n",
    "        context = context[1:] + [ix]\n",
    "        xs.append(context)\n",
    "        ys.append(ix)\n",
    "\n",
    "xs = torch.tensor(xs)\n",
    "ys = torch.tensor(ys)\n",
    "xs.shape, ys.shape"
   ]
  },
  {
   "cell_type": "code",
   "execution_count": 62,
   "id": "24d22a08-9fce-4c21-b723-4f527fb4685d",
   "metadata": {},
   "outputs": [
    {
     "data": {
      "text/plain": [
       "torch.Size([27, 2])"
      ]
     },
     "execution_count": 62,
     "metadata": {},
     "output_type": "execute_result"
    }
   ],
   "source": [
    "#embedding matrix\n",
    "emb_size = 2\n",
    "C = torch.randn(27, emb_size)\n",
    "C.shape"
   ]
  },
  {
   "cell_type": "code",
   "execution_count": 63,
   "id": "3f370fc0-e39e-4b6e-81a9-9d6c3025e864",
   "metadata": {},
   "outputs": [
    {
     "data": {
      "text/plain": [
       "torch.Size([32, 3, 2])"
      ]
     },
     "execution_count": 63,
     "metadata": {},
     "output_type": "execute_result"
    }
   ],
   "source": [
    "# embed the dataset - extract embeddings for input indices\n",
    "emb = C[xs] # how to simultaneously embed multiple inputs\n",
    "emb.shape"
   ]
  },
  {
   "cell_type": "code",
   "execution_count": 67,
   "id": "b0e929b5-c72c-4b78-bb57-b405cc661a14",
   "metadata": {},
   "outputs": [
    {
     "data": {
      "text/plain": [
       "torch.Size([32, 6])"
      ]
     },
     "execution_count": 67,
     "metadata": {},
     "output_type": "execute_result"
    }
   ],
   "source": [
    "# adjust dimensions to make it a 2D matrix\n",
    "emb.view(-1, context_size * emb_size).shape"
   ]
  },
  {
   "cell_type": "code",
   "execution_count": 77,
   "id": "e2590b97-869d-4cf4-a4ab-2bc6de2e65f1",
   "metadata": {},
   "outputs": [
    {
     "data": {
      "text/plain": [
       "(torch.Size([6, 100]), torch.Size([100, 27]))"
      ]
     },
     "execution_count": 77,
     "metadata": {},
     "output_type": "execute_result"
    }
   ],
   "source": [
    "hidden_size = 100\n",
    "W1 = torch.randn(context_size * emb_size, hidden_size)\n",
    "b1 = torch.randn(hidden_size)\n",
    "W2 = torch.randn(hidden_size, 27)\n",
    "b2 = torch.randn(27)\n",
    "W1.shape, W2.shape"
   ]
  },
  {
   "cell_type": "code",
   "execution_count": 80,
   "id": "634703ff-be3a-45a5-a4f3-a39abf393961",
   "metadata": {},
   "outputs": [
    {
     "data": {
      "text/plain": [
       "torch.Size([32, 100])"
      ]
     },
     "execution_count": 80,
     "metadata": {},
     "output_type": "execute_result"
    }
   ],
   "source": [
    "# forward pass\n",
    "h = torch.tanh(emb.view(-1, context_size * emb_size) @ W1 + b1)\n",
    "h.shape"
   ]
  },
  {
   "cell_type": "code",
   "execution_count": 81,
   "id": "39aa8ac3-e549-4a01-bd04-15ddcf5315e2",
   "metadata": {},
   "outputs": [
    {
     "data": {
      "text/plain": [
       "torch.Size([32, 27])"
      ]
     },
     "execution_count": 81,
     "metadata": {},
     "output_type": "execute_result"
    }
   ],
   "source": [
    "logits = h @ out + b2\n",
    "logits.shape"
   ]
  },
  {
   "cell_type": "code",
   "execution_count": 82,
   "id": "8f34faf9-31fa-419a-8db2-d03563d1c350",
   "metadata": {},
   "outputs": [
    {
     "data": {
      "text/plain": [
       "torch.Size([32, 27])"
      ]
     },
     "execution_count": 82,
     "metadata": {},
     "output_type": "execute_result"
    }
   ],
   "source": [
    "# calculate loss as before with 1 layer model\n",
    "counts = logits.exp()\n",
    "probs = counts / counts.sum(dim=1, keepdim=True)\n",
    "probs.shape"
   ]
  },
  {
   "cell_type": "code",
   "execution_count": 84,
   "id": "f6be28fc-6087-4cba-b0aa-af14742cf1ae",
   "metadata": {},
   "outputs": [
    {
     "data": {
      "text/plain": [
       "tensor([1.1881e-02, 6.0892e-04, 1.5999e-04, 8.8785e-05, 1.2108e-07, 3.4456e-11,\n",
       "        2.8165e-03, 9.2810e-07, 9.0839e-01, 1.0322e-07, 2.1488e-05, 1.1048e-04,\n",
       "        2.7073e-02, 2.6118e-06, 4.1120e-09, 4.7512e-08, 2.1020e-09, 5.2692e-06,\n",
       "        1.0211e-05, 4.3473e-02, 2.5301e-06, 1.1633e-07, 9.5978e-08, 1.0293e-04,\n",
       "        1.0196e-07, 5.1491e-03, 9.7325e-05])"
      ]
     },
     "execution_count": 84,
     "metadata": {},
     "output_type": "execute_result"
    }
   ],
   "source": [
    "probs[0]"
   ]
  },
  {
   "cell_type": "code",
   "execution_count": 83,
   "id": "5a43bc26-f612-4d6b-87d1-153a96299413",
   "metadata": {},
   "outputs": [
    {
     "data": {
      "text/plain": [
       "tensor(1.0000)"
      ]
     },
     "execution_count": 83,
     "metadata": {},
     "output_type": "execute_result"
    }
   ],
   "source": [
    "probs[0].sum()"
   ]
  },
  {
   "cell_type": "code",
   "execution_count": 89,
   "id": "82f4efda-1b51-46fc-8b8d-a642a1378c59",
   "metadata": {},
   "outputs": [
    {
     "data": {
      "text/plain": [
       "torch.Size([32])"
      ]
     },
     "execution_count": 89,
     "metadata": {},
     "output_type": "execute_result"
    }
   ],
   "source": [
    "# pluck out the probabilities for correct labels to compute loss on them\n",
    "probs[torch.arange(32), ys].shape"
   ]
  },
  {
   "cell_type": "code",
   "execution_count": 91,
   "id": "876cce8f-3b90-486d-bdbc-55e54b4efe21",
   "metadata": {},
   "outputs": [
    {
     "data": {
      "text/plain": [
       "tensor(17.0360)"
      ]
     },
     "execution_count": 91,
     "metadata": {},
     "output_type": "execute_result"
    }
   ],
   "source": [
    "# compute average negative log likelihood \n",
    "loss = -probs[torch.arange(32), ys].log().mean()\n",
    "loss"
   ]
  },
  {
   "cell_type": "markdown",
   "id": "c0356ac8-1209-41b4-9d79-5fdc07ee181a",
   "metadata": {},
   "source": [
    "### Splitting to train / val / test:"
   ]
  },
  {
   "cell_type": "code",
   "execution_count": 101,
   "id": "ce5e7093-7cb5-4349-8ab5-34913fc1bd28",
   "metadata": {},
   "outputs": [],
   "source": [
    "context_size = 3\n",
    "\n",
    "def build_dataset(words):\n",
    "    xs, ys = [], []\n",
    "    for w in words:\n",
    "        context = context_size * [0]\n",
    "        for ch in w + '.':\n",
    "            ix = stoi[ch]\n",
    "            xs.append(context)\n",
    "            ys.append(ix)\n",
    "            context = context[1:] + [ix]\n",
    "\n",
    "    xs = torch.tensor(xs)\n",
    "    ys = torch.tensor(ys)\n",
    "    print(xs.shape, ys.shape)\n",
    "    return xs, ys"
   ]
  },
  {
   "cell_type": "code",
   "execution_count": 102,
   "id": "9843315e-66c3-4458-9a20-7a3a08ce8530",
   "metadata": {},
   "outputs": [
    {
     "name": "stdout",
     "output_type": "stream",
     "text": [
      "torch.Size([32, 3]) torch.Size([32])\n"
     ]
    }
   ],
   "source": [
    "xs, ys = build_dataset(words[:5])"
   ]
  },
  {
   "cell_type": "code",
   "execution_count": 106,
   "id": "433aba42-7a4b-456d-95ae-5f661a108154",
   "metadata": {},
   "outputs": [
    {
     "name": "stdout",
     "output_type": "stream",
     "text": [
      "torch.Size([182421, 3]) torch.Size([182421])\n",
      "torch.Size([22832, 3]) torch.Size([22832])\n",
      "torch.Size([22893, 3]) torch.Size([22893])\n"
     ]
    }
   ],
   "source": [
    "# How we'll split into train / dev / test sets: \n",
    "# -> random shuffle words then slice\n",
    "import random\n",
    "random.seed(42)\n",
    "\n",
    "random.shuffle(words)\n",
    "n1 = int(0.8 * len(words))\n",
    "n2 = int(0.9 * len(words))\n",
    "xtrn, ytrn = build_dataset(words[ :n1])\n",
    "xdev, ydev = build_dataset(words[n1:n2])\n",
    "xte, yte = build_dataset(words[n2: ])"
   ]
  },
  {
   "cell_type": "code",
   "execution_count": 109,
   "id": "6b82a637-747e-4703-afc0-d55b0a055ae6",
   "metadata": {},
   "outputs": [
    {
     "data": {
      "text/plain": [
       "(torch.Size([6, 100]), torch.Size([100, 27]))"
      ]
     },
     "execution_count": 109,
     "metadata": {},
     "output_type": "execute_result"
    }
   ],
   "source": [
    "W1.shape, W2.shape"
   ]
  },
  {
   "cell_type": "code",
   "execution_count": 126,
   "id": "ee5f1067-a35e-4486-8ca9-16bfa2609b1e",
   "metadata": {},
   "outputs": [
    {
     "data": {
      "text/plain": [
       "(torch.Size([6, 100]), torch.Size([100, 27]))"
      ]
     },
     "execution_count": 126,
     "metadata": {},
     "output_type": "execute_result"
    }
   ],
   "source": [
    "# params and hyperparams\n",
    "lr = 0.01\n",
    "emb_size = 2\n",
    "hidden_size = 100\n",
    "\n",
    "C = torch.randn(27, emb_size)\n",
    "W1 = torch.randn(context_size * emb_size, hidden_size)\n",
    "b1 = torch.randn(hidden_size)\n",
    "W2 = torch.randn(hidden_size, 27)\n",
    "b2 = torch.randn(27)\n",
    "W1.shape, W2.shape"
   ]
  },
  {
   "cell_type": "code",
   "execution_count": 127,
   "id": "65d27ed4-217d-443a-8d8e-d8310689f844",
   "metadata": {},
   "outputs": [],
   "source": [
    "parameters = [C, W1, W2, b1, b2]\n",
    "for p in parameters:\n",
    "    p.requires_grad = True"
   ]
  },
  {
   "cell_type": "code",
   "execution_count": 128,
   "id": "300bbcd0-5e04-4590-b849-a1d8c6c3d15b",
   "metadata": {},
   "outputs": [
    {
     "data": {
      "text/plain": [
       "3481"
      ]
     },
     "execution_count": 128,
     "metadata": {},
     "output_type": "execute_result"
    }
   ],
   "source": [
    "sum(p.nelement() for p in parameters) # number of parameters in total"
   ]
  },
  {
   "cell_type": "code",
   "execution_count": 129,
   "id": "6d436a8a-b288-40f6-bc37-cb292bd48220",
   "metadata": {},
   "outputs": [
    {
     "name": "stdout",
     "output_type": "stream",
     "text": [
      "16.976476669311523\n"
     ]
    }
   ],
   "source": [
    "# the training loop\n",
    "lossi = []\n",
    "stepi = []\n",
    "\n",
    "for i in range(100):\n",
    "    #forward pass\n",
    "    xenc = C[xtrn]\n",
    "    h = torch.tanh(xenc.view(-1, context_size * emb_size) @ W1 + b1)\n",
    "    logits = h @ W2 + b2\n",
    "    # compute loss\n",
    "    loss = F.cross_entropy(logits, ytrn)\n",
    "    # zero grad\n",
    "    for p in parameters:\n",
    "        p.grad = None\n",
    "    # backprop\n",
    "    loss.backward()\n",
    "    # update weights\n",
    "    for p in parameters:\n",
    "        p.data += -lr * p.grad\n",
    "\n",
    "    if i % 1000 == 0:\n",
    "        print(loss.item())\n",
    "\n",
    "    # track statistics\n",
    "    lossi.append(loss.item())\n",
    "    stepi.append(i)"
   ]
  },
  {
   "cell_type": "code",
   "execution_count": 142,
   "id": "8b916214-c12f-4740-9c46-b8f8c9f5ffe8",
   "metadata": {},
   "outputs": [],
   "source": [
    "# plt.plot(stepi, lossi);"
   ]
  },
  {
   "cell_type": "code",
   "execution_count": 156,
   "id": "83143c69-3c27-4416-bb71-f7dde989df6e",
   "metadata": {},
   "outputs": [
    {
     "name": "stdout",
     "output_type": "stream",
     "text": [
      "torch.Size([6, 100]) torch.Size([100, 27])\n"
     ]
    }
   ],
   "source": [
    "# params and hyperparams\n",
    "lr = 0.01\n",
    "emb_size = 2\n",
    "hidden_size = 100\n",
    "batch_size = 32\n",
    "\n",
    "C = torch.randn(27, emb_size)\n",
    "W1 = torch.randn(context_size * emb_size, hidden_size)\n",
    "b1 = torch.randn(hidden_size)\n",
    "W2 = torch.randn(hidden_size, 27)\n",
    "b2 = torch.randn(27)\n",
    "print(W1.shape, W2.shape)\n",
    "\n",
    "parameters = [C, W1, W2, b1, b2]\n",
    "for p in parameters:\n",
    "    p.requires_grad = True\n",
    "\n",
    "sum(p.nelement() for p in parameters) # number of parameters in total\n",
    "\n",
    "# keep stats here to avoid re-initializing every time we loop\n",
    "lossi = []\n",
    "stepi = []"
   ]
  },
  {
   "cell_type": "code",
   "execution_count": 160,
   "id": "a4891681-8028-403b-ad4e-19e53d04884b",
   "metadata": {},
   "outputs": [],
   "source": [
    "# let's make it faster by training on minibatches\n",
    "for i in range(50000):\n",
    "    # create mini-batches\n",
    "    ixs = torch.randint(0, xtrn.size(0), (batch_size, )) # random indices / samples from training set\n",
    "    xs = xtrn[ixs]\n",
    "    ys = ytrn[ixs]\n",
    "    \n",
    "    xenc = C[xs]\n",
    "    h = torch.tanh(xenc.view(-1, context_size * emb_size) @ W1 + b1)\n",
    "    logits = h @ W2 + b2\n",
    "\n",
    "    # loss\n",
    "    loss = F.cross_entropy(logits, ys)\n",
    "    # zero grad\n",
    "    for p in parameters:\n",
    "        p.grad = None\n",
    "\n",
    "    #backprop\n",
    "    loss.backward()\n",
    "\n",
    "    lr = 0.1 if i < 10000 else 0.01\n",
    "    # weight update\n",
    "    for p in parameters:\n",
    "        p.data += -lr * p.grad\n",
    "\n",
    "    lossi.append(loss.item())\n",
    "    stepi.append(i)\n"
   ]
  },
  {
   "cell_type": "code",
   "execution_count": 161,
   "id": "41c1e90b-6b18-460c-90d5-1f8d4e09ae4e",
   "metadata": {},
   "outputs": [
    {
     "data": {
      "image/png": "[encoded data removed]",
      "text/plain": [
       "<Figure size 640x480 with 1 Axes>"
      ]
     },
     "metadata": {},
     "output_type": "display_data"
    }
   ],
   "source": [
    "plt.plot(stepi, lossi);"
   ]
  },
  {
   "cell_type": "code",
   "execution_count": 162,
   "id": "805f0060-2ad7-432e-bc54-867ccd87a120",
   "metadata": {},
   "outputs": [
    {
     "data": {
      "text/plain": [
       "2.1321563720703125"
      ]
     },
     "execution_count": 162,
     "metadata": {},
     "output_type": "execute_result"
    }
   ],
   "source": [
    "loss.item()"
   ]
  },
  {
   "cell_type": "code",
   "execution_count": 167,
   "id": "3b539cf5-6298-4ef9-b62a-0659ab8a7562",
   "metadata": {},
   "outputs": [],
   "source": [
    "# evaluate on dev set\n",
    "# to eval-> full pass through network and compute final loss\n",
    "def eval_loss(x,y):\n",
    "    with torch.no_grad():         \n",
    "        xenc = C[x]\n",
    "        h = torch.tanh(xenc.view(-1, context_size * emb_size) @ W1 + b1)\n",
    "        logits = h @ W2 + b2\n",
    "        loss = F.cross_entropy(logits, y)\n",
    "        print(loss.item())"
   ]
  },
  {
   "cell_type": "code",
   "execution_count": 168,
   "id": "058ca998-6656-41c8-a54d-5d1d1b8dfd65",
   "metadata": {},
   "outputs": [
    {
     "name": "stdout",
     "output_type": "stream",
     "text": [
      "2.318882942199707\n"
     ]
    }
   ],
   "source": [
    "eval_loss(xdev, ydev)"
   ]
  },
  {
   "cell_type": "code",
   "execution_count": 192,
   "id": "4b831410-f837-4343-a19f-2bc20cdbdf6a",
   "metadata": {},
   "outputs": [
    {
     "name": "stdout",
     "output_type": "stream",
     "text": [
      "mria.\n",
      "kayan.\n",
      "seel.\n",
      "ndynyal.\n",
      "rethastendrlee.\n",
      "aderedielin.\n",
      "shi.\n",
      "jen.\n",
      "edellestanar.\n",
      "kayzioh.\n"
     ]
    }
   ],
   "source": [
    "# sampling from this distribution: we want to get probabilities to sampe from.\n",
    "# these will be derived from the logits in the final layer\n",
    "# as before, we sample letter after another\n",
    "# we start at . . .\n",
    "g = torch.Generator().manual_seed(2147483647 + 10)\n",
    "\n",
    "for _ in range(10):\n",
    "    out = []\n",
    "    context = [0] * context_size\n",
    "    while True:\n",
    "        xenc = C[context]\n",
    "        h = torch.tanh(xenc.view(-1, context_size * emb_size) @ W1 + b1)\n",
    "        logits = h @ W2 + b2\n",
    "        probs = F.softmax(logits, dim=1)\n",
    "        ix = torch.multinomial(probs, num_samples=1, replacement=True, generator=g).item()\n",
    "        context = context[1:] + [ix]\n",
    "        out.append(ix)\n",
    "\n",
    "        if ix == 0:\n",
    "            break\n",
    "    print(''.join(itos[i] for i in out))"
   ]
  },
  {
   "cell_type": "code",
   "execution_count": null,
   "id": "d69e9f93-5007-418a-877a-3315c6eb099c",
   "metadata": {},
   "outputs": [],
   "source": []
  }
 ],
 "metadata": {
  "kernelspec": {
   "display_name": "Python 3 (ipykernel)",
   "language": "python",
   "name": "python3"
  },
  "language_info": {
   "codemirror_mode": {
    "name": "ipython",
    "version": 3
   },
   "file_extension": ".py",
   "mimetype": "text/x-python",
   "name": "python",
   "nbconvert_exporter": "python",
   "pygments_lexer": "ipython3",
   "version": "3.10.14"
  }
 },
 "nbformat": 4,
 "nbformat_minor": 5
}
